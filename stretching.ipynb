{
 "cells": [
  {
   "cell_type": "code",
   "execution_count": 33,
   "id": "ba3d36e2-ee51-41a1-91a3-bf2279d09e6d",
   "metadata": {},
   "outputs": [],
   "source": [
    "import numpy as np\n",
    "import matplotlib.pyplot as plt\n",
    "import pandas as pd\n",
    "from scipy.signal import savgol_filter\n",
    "%matplotlib qt"
   ]
  },
  {
   "cell_type": "code",
   "execution_count": 54,
   "id": "d26c63b4-783c-4787-b6c1-5da6b71676a7",
   "metadata": {},
   "outputs": [],
   "source": [
    "def find_CP(x,y,zerorange=900):\n",
    "    \"\"\"Finds the CP from F-Z curves by auto-thresholding data. \n",
    "    Algorithm writteb by Prof Massimo Vassalli and avilable\n",
    "    at the open source repository: https://github.com/CellMechLab/softmech\"\"\"\n",
    "    deg = 0 \n",
    "    worky = np.copy(y)\n",
    "    xtarget = np.min(x) + zerorange *1e-3\n",
    "    jtarget = np.argmin( np.abs(x-xtarget) )\n",
    "\n",
    "    #which direction?\n",
    "    if x[0]<x[-1]:\n",
    "        xlin = x[:jtarget]\n",
    "        ylin = worky[:jtarget]\n",
    "        m,q = np.polyfit(xlin,ylin,1)\n",
    "    else:\n",
    "        xlin = x[jtarget:]\n",
    "        ylin = worky[jtarget:]\n",
    "        m,q = np.polyfit(xlin,ylin,1)\n",
    "\n",
    "    worky = worky-m*x-q\n",
    "\n",
    "    differences = (worky[1:]+worky[:-1])/2\n",
    "    midpoints = np.array(list(set(differences)))\n",
    "    midpoints.sort()\n",
    "\n",
    "    crossings = []\n",
    "    for threshold in midpoints[midpoints>0]:\n",
    "        crossings.append( np.sum( np.bitwise_and( (worky[1:]>threshold),(worky[:-1]<threshold) )))\n",
    "    crossings=np.array(crossings)\n",
    "\n",
    "    inflection = midpoints[midpoints>0][np.where(crossings==1)[0][0]]\n",
    "    jcpguess = np.argmin( np.abs(differences-inflection) )+1\n",
    "\n",
    "    xcp = x[jcpguess]\n",
    "    ycp = y[jcpguess]\n",
    "    return [xcp, ycp]\n",
    "\n",
    "def average_curve(arrs):\n",
    "    \"\"\"Finds the average array from a list of arrays containing \n",
    "    arrays of different lengths.\"\"\"\n",
    "    lens = [len(i) for i in arrs]\n",
    "    arr = np.ma.empty((np.max(lens),len(arrs)))\n",
    "    arr.mask = True\n",
    "    for idx, l in enumerate(arrs):\n",
    "        arr[:len(l),idx] = l\n",
    "    return arr.mean(axis = -1), arr.std(axis=-1)"
   ]
  },
  {
   "cell_type": "code",
   "execution_count": 70,
   "id": "80a5da81",
   "metadata": {},
   "outputs": [],
   "source": [
    "\n",
    "filedir = \"/Users/giuseppeciccone/Library/CloudStorage/OneDrive-UniversityofGlasgow/PhD/PyModules/stretching/data/K.xlsx\"\n",
    "file = pd.ExcelFile(filedir)\n",
    "sheet_names=file.sheet_names"
   ]
  },
  {
   "cell_type": "code",
   "execution_count": 71,
   "id": "5deb3371-ff21-4805-9230-69edd6eb5280",
   "metadata": {},
   "outputs": [],
   "source": [
    "fig,axs = plt.subplots(1,3,figsize=(15,5))\n",
    "all_loads = []\n",
    "all_pos = []\n",
    "for i, name in enumerate(sheet_names):\n",
    "    data= pd.read_excel(filedir,sheet_name=name)\n",
    "    pos = np.array(data.loc[:,\"POSITION\"])\n",
    "    load = np.array(data.loc[:,\"LOADCELL\"])\n",
    "    x0,y0 = find_CP(pos,load,zerorange=3000)\n",
    "    x0ind = np.argmin((pos-x0)**2)\n",
    "    y0ind = np.argmin((load-y0)**2)\n",
    "    rupture = max(load)\n",
    "    irupture = np.argmin((load-rupture)**2)\n",
    "    if rupture<0.02: #avoid bad curves\n",
    "        axs[0].plot(pos,load,color='black',lw=1)\n",
    "        axs[0].plot(pos[y0ind:irupture],load[y0ind:irupture],'o',color='red',alpha=0.1)\n",
    "        #align curves to the same origin\n",
    "        pos = pos - x0\n",
    "        load = load - y0\n",
    "        axs[1].plot(pos[y0ind:irupture],load[y0ind:irupture],color='black',lw=1)\n",
    "        all_loads.append(load[y0ind:irupture])\n",
    "        all_pos.append(pos[y0ind:irupture])\n",
    "#average curves\n",
    "avg_force,avg_force_std = average_curve(all_loads)\n",
    "avg_pos,avg_pos_std = average_curve(all_pos)\n",
    "axs[2].plot(avg_pos,avg_force)\n",
    "axs[2].fill_between(avg_pos,avg_force-avg_force_std/2.0,avg_force+avg_force_std/2.0,alpha=0.5)\n",
    "plt.show()"
   ]
  },
  {
   "cell_type": "code",
   "execution_count": 60,
   "id": "1f2d1836-7a15-4526-b781-2766fac218c5",
   "metadata": {},
   "outputs": [],
   "source": []
  },
  {
   "cell_type": "code",
   "execution_count": null,
   "id": "5821bbd8",
   "metadata": {},
   "outputs": [],
   "source": []
  }
 ],
 "metadata": {
  "kernelspec": {
   "display_name": "brillouinmaps",
   "language": "python",
   "name": "python3"
  },
  "language_info": {
   "codemirror_mode": {
    "name": "ipython",
    "version": 3
   },
   "file_extension": ".py",
   "mimetype": "text/x-python",
   "name": "python",
   "nbconvert_exporter": "python",
   "pygments_lexer": "ipython3",
   "version": "3.10.4"
  },
  "vscode": {
   "interpreter": {
    "hash": "84b25d0415491253f03f694f57af598572a98abd3b82a154133d6b656667b885"
   }
  }
 },
 "nbformat": 4,
 "nbformat_minor": 5
}
